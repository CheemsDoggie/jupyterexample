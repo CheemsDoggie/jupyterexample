{
 "cells": [
  {
   "cell_type": "markdown",
   "id": "01-jupyter-lab-0",
   "metadata": {},
   "source": [
    "# 01: Jupyter Lab  \n",
    "\n",
    "## Cheems Doggie Guau 🐶\n",
    "\n",
    "<a href=\"https://twitter.com/io_exception\"><img src=\"https://i.imgur.com/y5W9TCb.png\" width=\"150px\" /></a> <a href=\"https://youtube.com/thatcsharpguy\"><img src=\"https://i.imgur.com/5O0Swdu.png\" width=\"150px\" /></a>  "
   ]
  },
  {
   "cell_type": "markdown",
   "id": "01-jupyter-lab-1",
   "metadata": {},
   "source": [
    "## Entornos virtuales\n",
    "\n",
    "Cuando uno desarrolla en Python es ideal el colocar todas nuestras dependencias dentro de un entorno virtual, en la ciencia de datos el gestor de paquetes por excelencia es *conda* aunque existen otras alternativas, yo personalmente uso *pipenv* y *poetry*."
   ]
  },
  {
   "cell_type": "markdown",
   "id": "01-jupyter-lab-2",
   "metadata": {},
   "source": [
    "## Bibliotecas a usar hoy \n",
    "\n",
    " - `jupyterlab`  \n",
    " - `matplotlib`\n",
    " - `ipympl`\n",
    " - `numpy`\n"
   ]
  },
  {
   "cell_type": "markdown",
   "id": "01-jupyter-lab-3",
   "metadata": {
    "jp-MarkdownHeadingCollapsed": true,
    "tags": []
   },
   "source": [
    "## Qué es Jupyter Lab\n",
    "\n",
    "*Jupyter Lab* es la nueva interfaz gráfica que nos permite interactuar con los *Jupyter Notebooks*. Estos *notebooks* son una versión mas... *interactiva* para interactuar con la consola de Python. \n",
    "\n",
    "Cada *notebook* tiene asociada una consola de Python (también conocido como *kernel*) que está activa y esperando a que nosotros le mandemos comandos usando la interfaz gráfica de nuestros *notebooks*.\n",
    "\n",
    "Las *Notebooks* son una implementación del paradigma de [programación letrada](https://en.wikipedia.org/wiki/Literate_programming) ideado por Donald Knuth. Esto se logra mediante el uso de **celdas (cells)**; estas celdas pueden ser usadas para presentar **texto** escrito con [*markdown*](https://en.wikipedia.org/wiki/Markdown) o **código** que en este caso vamos a escribir en Python. \n",
    "\n",
    "**Otros *kernels***: Es posible configurar nuestro servidor de Jupyter para que acepte otros *kernels* de distintos lenguajes o distintas versiones de Python, entre ellos Julia, R y hasta C#.\n",
    "\n",
    "\n",
    "### Tecnicalidades\n",
    "\n",
    "Jupyter funciona con una arquitectura cliente-servidor, lo que ustedes están viendo en esta pantalla es el cliente representado por una aplicación web y el servidor es una aplicación que se está ejecutando en su computadora. Esto significa que podríamos tener el servidor de Jupyter ejecutándose en una computadora más poderosa (por ejemplo, en AWS) y nosotros poder acceder desde cualquier navegador y programar desde ahí. A pesar de esto también es muy común tener cliente y servidor en la misma computadora."
   ]
  },
  {
   "cell_type": "markdown",
   "id": "01-jupyter-lab-4",
   "metadata": {},
   "source": [
    "## Ventajas \n",
    "\n",
    " - Son perfectos para mostrar tu trabajo\n",
    " - Facilitan la experimentación\n",
    " - Tienen una curva de aprendizaje relativamente baja\n",
    " - Su arquitectura las hace ideales para uso remoto"
   ]
  },
  {
   "cell_type": "markdown",
   "id": "01-jupyter-lab-5",
   "metadata": {},
   "source": [
    "## Desventajas  \n",
    " \n",
    " - Es fácil escribir código espagueti\n",
    " - No es tan sencillo colaborar en el mismo *notebook*\n",
    " - Sin todas las herramientas de un IDE\n",
    " - Dificultad a la hora de depurar"
   ]
  },
  {
   "cell_type": "markdown",
   "id": "01-jupyter-lab-6",
   "metadata": {
    "tags": []
   },
   "source": [
    "## Navegando las notebooks\n",
    "\n",
    "El funcionamiento de las *notebooks* se centra en una entidad conocida como \"celda\", a nosotros nos interesan dos tipos de celdas: de código y de *markdown*, ésta y todas las celdas anteriores son celdas de markdown. \n",
    "\n",
    " - Doble click (o <kbd>Enter</kbd>) en una celda para entrar en modo de edición\n",
    " - <kbd>Esc</kbd> para salir de modo de edición y entrar en modo comandos\n",
    " - <kbd>Ctrl</kbd> + <kbd>Enter</kbd> ejecuta la celda actual (y permanece en esta)\n",
    " - <kbd>Shift</kbd> + <kbd>Enter</kbd> ejecuta la celda actual y avanza a la siguiente\n",
    " - <kbd>Alt</kbd> + <kbd>Enter</kbd> ejecuta la celda actual y crea una nueva justo debajo de la actual\n",
    " - En modo comandos:\n",
    "     - <kbd>⬆</kbd> y <kbd>⬇</kbd> para navegar entre celdas\n",
    "     - <kbd>M</kbd> para cambiar una celda a *markdown*\n",
    "     - <kbd>Y</kbd> para cambiar una celda a código\n",
    "     - <kbd>D</kbd> + <kbd>D</kbd> para eliminar una celda\n",
    "     - <kbd>Z</kbd> para deshacer cambios a las celdas\n",
    "     - <kbd>A</kbd> agrega una celda arriba de la actual\n",
    "     - <kbd>B</kbd> agrega una celda debajo de la actual\n",
    "     "
   ]
  },
  {
   "cell_type": "markdown",
   "id": "01-jupyter-lab-7",
   "metadata": {},
   "source": [
    "## \"!\" en las celdas  \n",
    "\n",
    "Puedes poner un `!` como prefijo para indicarle al intérprete que el código a ejecutar después del `i` no es un comando para python, sino algo que debe ejecutar en la terminal del sistema operativo del host:"
   ]
  },
  {
   "cell_type": "code",
   "execution_count": null,
   "id": "01-jupyter-lab-8",
   "metadata": {
    "tags": [
     "not-formatted"
    ]
   },
   "outputs": [],
   "source": [
    "!echo \"Hola!\""
   ]
  },
  {
   "cell_type": "code",
   "execution_count": null,
   "id": "01-jupyter-lab-9",
   "metadata": {
    "tags": [
     "not-formatted"
    ]
   },
   "outputs": [],
   "source": [
    "# Podemos combinar comentarios y comandos de consola...\n",
    "!echo \"import jupyterlab; print(jupyterlab.__version__)\" > temporary.py"
   ]
  },
  {
   "cell_type": "code",
   "execution_count": null,
   "id": "01-jupyter-lab-10",
   "metadata": {
    "tags": [
     "not-formatted"
    ]
   },
   "outputs": [],
   "source": [
    "# ¡Podemos combinar Python y comandos de consola!\n",
    "for i in range(2):\n",
    "    resultado_consola = !echo \"Hello $i\"\n",
    "    print(resultado_consola)"
   ]
  },
  {
   "cell_type": "markdown",
   "id": "6bf17606-e9ec-4709-80f5-2a24e4c0b827",
   "metadata": {},
   "source": [
    "Obtener archivos, comprimir descomprimir, descargar libreria, etc."
   ]
  },
  {
   "cell_type": "code",
   "execution_count": null,
   "id": "1cd50340-e2a5-477f-986c-5fbb9f4890c6",
   "metadata": {},
   "outputs": [],
   "source": [
    "!wget\n",
    "!curl\n",
    "!unzip\n",
    "!zip"
   ]
  },
  {
   "cell_type": "code",
   "execution_count": null,
   "id": "acc9b47b-80fa-4bd5-8bff-ea4627817230",
   "metadata": {},
   "outputs": [],
   "source": [
    "!pip install latimes\n",
    "import latimes"
   ]
  },
  {
   "cell_type": "markdown",
   "id": "b1041155-1e0a-4159-aef6-c4bb58311159",
   "metadata": {},
   "source": [
    "Asegurarse que los archivos se encuentren donde se ejecuta el servidor"
   ]
  },
  {
   "cell_type": "markdown",
   "id": "01-jupyter-lab-11",
   "metadata": {
    "tags": []
   },
   "source": [
    "## \"?\" en las celdas\n",
    "\n",
    "Podemos usar el símbolo \"?\" para obtener ayuda sobre el código en Python, podemos poner el símbolo antes o después de la instrucción sobre la que queremos saber más."
   ]
  },
  {
   "cell_type": "code",
   "execution_count": null,
   "id": "01-jupyter-lab-12",
   "metadata": {
    "tags": [
     "not-formatted"
    ]
   },
   "outputs": [],
   "source": [
    "?str"
   ]
  },
  {
   "cell_type": "code",
   "execution_count": null,
   "id": "01-jupyter-lab-13",
   "metadata": {
    "tags": [
     "not-formatted"
    ]
   },
   "outputs": [],
   "source": [
    "list?"
   ]
  },
  {
   "cell_type": "code",
   "execution_count": null,
   "id": "6d3a0c80-b49f-4a16-b9ca-f8df28943afa",
   "metadata": {},
   "outputs": [],
   "source": [
    "!pip install numpy\n",
    "import numpy as np\n",
    "?np.zeros"
   ]
  },
  {
   "cell_type": "markdown",
   "id": "01-jupyter-lab-14",
   "metadata": {},
   "source": [
    "## Comandos mágicos (?)\n",
    "\n",
    "En adición a los signos anteriores, dentro de las celdas de las *notebooks* también podemos usar elementos conocidos como \"comandos mágicos\" que son atajos a funciones útiles."
   ]
  },
  {
   "cell_type": "markdown",
   "id": "01-jupyter-lab-15",
   "metadata": {},
   "source": [
    "### Ejecutar un script"
   ]
  },
  {
   "cell_type": "code",
   "execution_count": null,
   "id": "01-jupyter-lab-16",
   "metadata": {
    "tags": [
     "not-formatted"
    ]
   },
   "outputs": [],
   "source": [
    "# Ejecutando un script de python con %run\n",
    "%run temporary.py"
   ]
  },
  {
   "cell_type": "markdown",
   "id": "01-jupyter-lab-17",
   "metadata": {},
   "source": [
    "### Cargar un script"
   ]
  },
  {
   "cell_type": "code",
   "execution_count": null,
   "id": "01-jupyter-lab-18",
   "metadata": {},
   "outputs": [],
   "source": [
    "# %load temporary.py\n",
    "import jupyterlab; \n",
    "print(jupyterlab.__version__) \n",
    "print(2+2)"
   ]
  },
  {
   "cell_type": "markdown",
   "id": "01-jupyter-lab-19",
   "metadata": {},
   "source": [
    "### Cronometrando nuestro código  \n",
    "\n",
    "Siempre es bueno tener una idea de cuánto tiempo es que nuestro código se va a tardar en ejecutar, podemos usar dos formas de medir el tiempo con los comandos mágicos:  \n",
    "\n",
    " - `%%time`: para calcular el tiempo que tarda una celda completa en ejecutarse\n",
    " - `%timeit`: para calcular el tiempo de ejecución de una línea de código (ejecuta la línea múltiples veces para analizar el resultado:"
   ]
  },
  {
   "cell_type": "code",
   "execution_count": null,
   "id": "01-jupyter-lab-20",
   "metadata": {
    "tags": [
     "not-formatted"
    ]
   },
   "outputs": [],
   "source": [
    "%%time\n",
    "import time\n",
    "for i in range(4):\n",
    "    time.sleep(i)\n",
    "print(\"done\")"
   ]
  },
  {
   "cell_type": "code",
   "execution_count": null,
   "id": "01-jupyter-lab-21",
   "metadata": {
    "tags": [
     "not-formatted"
    ]
   },
   "outputs": [],
   "source": [
    "import random  \n",
    "\n",
    "# %timeit random.randint(10, 15)\n",
    "%timeit -n 10 random.randint(10, 15)"
   ]
  },
  {
   "cell_type": "markdown",
   "id": "01-jupyter-lab-22",
   "metadata": {},
   "source": [
    "### Gráficando en las *notebooks*  \n",
    "\n",
    "Una de las grandes ventajas que tenemos con las *notebooks* es que podemos crear gráficas dentro de ellas, mientras que podemos emplear el módulo `matplotlib`, podemos también cambiar el [backend](https://matplotlib.org/stable/tutorials/introductory/usage.html#what-is-a-backend) que estamos usando para graficar; por default el backend es `inline`, pero gracias a [`ipympl`](https://github.com/matplotlib/ipympl) podemos tener gráficas interactivas si cambiamos el backend a `widget` con el comando mágico `%matplotlib widget`"
   ]
  },
  {
   "cell_type": "code",
   "execution_count": null,
   "id": "01-jupyter-lab-23",
   "metadata": {},
   "outputs": [],
   "source": [
    "!pip install matplotlib\n",
    "import matplotlib.pyplot as plt\n",
    "import numpy as np"
   ]
  },
  {
   "cell_type": "code",
   "execution_count": null,
   "id": "01-jupyter-lab-24",
   "metadata": {
    "tags": [
     "not-formatted"
    ]
   },
   "outputs": [],
   "source": [
    "%matplotlib inline\n",
    "# %config InlineBackend.figure_format ='retina'\n",
    "\n",
    "fig = plt.figure()\n",
    "plt.plot(np.sin(np.linspace(0, 20, 100)));"
   ]
  },
  {
   "cell_type": "code",
   "execution_count": null,
   "id": "01-jupyter-lab-25",
   "metadata": {
    "tags": [
     "not-formatted"
    ]
   },
   "outputs": [],
   "source": [
    "%matplotlib widget\n",
    "\n",
    "fig = plt.figure()\n",
    "plt.plot(np.sin(np.linspace(0, 20, 100)));"
   ]
  },
  {
   "cell_type": "markdown",
   "id": "01-jupyter-lab-26",
   "metadata": {},
   "source": [
    " > 🚨 Es importante mencionar que tanto \"!\", \"?\" y \"%\" son elementos disponibles en los *Juypyter Notebooks*, de ninguna manera pertenecen a la sintaxis del lenguaje Python."
   ]
  },
  {
   "cell_type": "markdown",
   "id": "01-jupyter-lab-27",
   "metadata": {},
   "source": [
    "## Bonus: $\\mu\\alpha\\tau\\epsilon\\mu\\alpha\\tau\\iota\\kappa\\alpha\\sigma$  \n",
    "\n",
    "Además de *markdown* las celdas de las *notebooks* permiten usar símbolos matemáticos, mediante el uso del símbolo `$`, hay dos formas de hacerlo\n",
    "\n",
    " - *En línea*: Tenemos que colocar la expresión matemática entre `$`; ejemplo `$e = m \\times c^2$` se verá así: $e = m \\times c^2$\n",
    " - *En bloque*: Tenemos que colocar la expresión matemática entre `$$`; ejemplo `$$e = m \\times c^2$$` se verá así: $$e = m \\times c^2$$  \n",
    " \n",
    "En lecciones subsecuentes vamos a ver algunas fórmulas 🧐"
   ]
  },
  {
   "cell_type": "markdown",
   "id": "01-jupyter-lab-28",
   "metadata": {},
   "source": [
    "## Playground"
   ]
  },
  {
   "cell_type": "markdown",
   "id": "01-jupyter-lab-29",
   "metadata": {},
   "source": [
    "-----\n",
    "## Referencias\n",
    "\n",
    "### Sitios web  \n",
    "\n",
    "<table style=\"margin:0; max-width: 1000px;\">\n",
    "    <tbody>\n",
    "        <tr>\n",
    "            <td>\n",
    "                <a href=\"https://twitter.com/io_exception\">\n",
    "                    <img src=\"https://i.imgur.com/y5W9TCb.png\" />\n",
    "                </a>\n",
    "            </td>\n",
    "            <td>\n",
    "                <a href=\"https://tcsg.dev/discord\">\n",
    "                    <img src=\"https://i.imgur.com/EhgHBbC.png\" />\n",
    "                </a>\n",
    "            </td>\n",
    "            <td>\n",
    "                <a href=\"https://github.com/thatcsharpguy/df\">\n",
    "                    <img src=\"https://i.imgur.com/SnqZAxa.png\" />\n",
    "                </a>\n",
    "            </td>\n",
    "            <td>\n",
    "                <a href=\"https://youtube.com/thatcsharpguy\">\n",
    "                    <img src=\"https://i.imgur.com/5O0Swdu.png\" />\n",
    "                </a>\n",
    "            </td>\n",
    "            <td>\n",
    "                <a href=\"https://twitch.tv/thatcsharpguy\">\n",
    "                    <img src=\"https://i.imgur.com/OHCX8db.png\" />\n",
    "                </a>\n",
    "            </td>\n",
    "        </tr>\n",
    "    </tbody>\n",
    "</table>\n",
    "\n",
    "\n",
    " - **28 Jupyter Notebook Tips, Tricks, and Shortcuts** - [https://www.dataquest.io/blog/jupyter-notebook-tips-tricks-shortcuts/](https://www.dataquest.io/blog/jupyter-notebook-tips-tricks-shortcuts/)\n",
    " - **Jupyter Notebook Cheat Sheet : A Beginner’s Guide to Jupyter Notebook** - [https://www.edureka.co/blog/cheatsheets/jupyter-notebook-cheat-sheet](https://www.edureka.co/blog/cheatsheets/jupyter-notebook-cheat-sheet)\n",
    " "
   ]
  },
  {
   "cell_type": "code",
   "execution_count": null,
   "id": "399857e4-3b05-47bd-9556-df4e137384c3",
   "metadata": {},
   "outputs": [],
   "source": [
    "def suma(a,b):\n",
    "    return a+b;\n",
    "suma(5,10)"
   ]
  },
  {
   "cell_type": "code",
   "execution_count": null,
   "id": "04eb2985-74ad-4397-bcc8-1777f51aa9f0",
   "metadata": {},
   "outputs": [],
   "source": [
    "suma(\"Hola\",\" Efre\")"
   ]
  },
  {
   "cell_type": "code",
   "execution_count": null,
   "id": "06a6265b-1820-4173-9d33-ba2a84bd4c1e",
   "metadata": {},
   "outputs": [],
   "source": [
    "nombre=input(\"Introduce tu nombre\")\n",
    "print(nombre)"
   ]
  },
  {
   "cell_type": "markdown",
   "id": "fb7b7920",
   "metadata": {},
   "source": [
    "- [Link to Amazon SageMaker](https://aws.amazon.com/es/sagemaker/)\n",
    "\n",
    "- [Link to Kaggle](https://www.kaggle.com/)\n",
    "\n",
    "- [Deploy de Notebooks con Papermill](https://papermill.readthedocs.io/en/latest/)\n",
    "\n",
    "- [Review Notebooks on GitHub ReviewNB](https://www.reviewnb.com/)"
   ]
  },
  {
   "cell_type": "markdown",
   "id": "ac55b095",
   "metadata": {},
   "source": []
  }
 ],
 "metadata": {
  "kernelspec": {
   "display_name": "Python 3 (ipykernel)",
   "language": "python",
   "name": "python3"
  },
  "language_info": {
   "codemirror_mode": {
    "name": "ipython",
    "version": 3
   },
   "file_extension": ".py",
   "mimetype": "text/x-python",
   "name": "python",
   "nbconvert_exporter": "python",
   "pygments_lexer": "ipython3",
   "version": "3.9.5"
  },
  "toc-autonumbering": false,
  "toc-showcode": false,
  "toc-showmarkdowntxt": false,
  "toc-showtags": false
 },
 "nbformat": 4,
 "nbformat_minor": 5
}
